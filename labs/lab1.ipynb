{
 "metadata": {
  "name": "",
  "signature": "sha256:7ca6cf49240a586b2e5e52e5c37c9ea7dab410ac14d24fe40db2dbf3cf1fb0f9"
 },
 "nbformat": 3,
 "nbformat_minor": 0,
 "worksheets": [
  {
   "cells": [
    {
     "cell_type": "heading",
     "level": 1,
     "metadata": {},
     "source": [
      "TP1: SVM et mod\u00e8les de m\u00e9lange"
     ]
    },
    {
     "cell_type": "heading",
     "level": 2,
     "metadata": {},
     "source": [
      "Application I: classification"
     ]
    },
    {
     "cell_type": "code",
     "collapsed": false,
     "input": [
      "import numpy as np\n",
      "import pandas as pd\n",
      "import matplotlib\n",
      "from matplotlib import pyplot as plt\n",
      "%matplotlib inline"
     ],
     "language": "python",
     "metadata": {},
     "outputs": [],
     "prompt_number": 1
    },
    {
     "cell_type": "code",
     "collapsed": false,
     "input": [
      "tab = pd.DataFrame.from_csv('spam.txt',header=False,sep=';',index_col=False)"
     ],
     "language": "python",
     "metadata": {},
     "outputs": [],
     "prompt_number": 2
    },
    {
     "cell_type": "code",
     "collapsed": false,
     "input": [
      "tab.head()"
     ],
     "language": "python",
     "metadata": {},
     "outputs": [
      {
       "html": [
        "<div style=\"max-height:1000px;max-width:1500px;overflow:auto;\">\n",
        "<table border=\"1\" class=\"dataframe\">\n",
        "  <thead>\n",
        "    <tr style=\"text-align: right;\">\n",
        "      <th></th>\n",
        "      <th>A.1</th>\n",
        "      <th>A.2</th>\n",
        "      <th>A.3</th>\n",
        "      <th>A.4</th>\n",
        "      <th>A.5</th>\n",
        "      <th>A.6</th>\n",
        "      <th>A.7</th>\n",
        "      <th>A.8</th>\n",
        "      <th>A.9</th>\n",
        "      <th>A.10</th>\n",
        "      <th>...</th>\n",
        "      <th>A.49</th>\n",
        "      <th>A.50</th>\n",
        "      <th>A.51</th>\n",
        "      <th>A.52</th>\n",
        "      <th>A.53</th>\n",
        "      <th>A.54</th>\n",
        "      <th>A.55</th>\n",
        "      <th>A.56</th>\n",
        "      <th>A.57</th>\n",
        "      <th>spam</th>\n",
        "    </tr>\n",
        "  </thead>\n",
        "  <tbody>\n",
        "    <tr>\n",
        "      <th>0</th>\n",
        "      <td> 0.00</td>\n",
        "      <td> 0.64</td>\n",
        "      <td> 0.64</td>\n",
        "      <td> 0</td>\n",
        "      <td> 0.32</td>\n",
        "      <td> 0.00</td>\n",
        "      <td> 0.00</td>\n",
        "      <td> 0.00</td>\n",
        "      <td> 0.00</td>\n",
        "      <td> 0.00</td>\n",
        "      <td>...</td>\n",
        "      <td> 0.00</td>\n",
        "      <td> 0.000</td>\n",
        "      <td> 0</td>\n",
        "      <td> 0.778</td>\n",
        "      <td> 0.000</td>\n",
        "      <td> 0.000</td>\n",
        "      <td> 3.756</td>\n",
        "      <td>  61</td>\n",
        "      <td>  278</td>\n",
        "      <td> spam</td>\n",
        "    </tr>\n",
        "    <tr>\n",
        "      <th>1</th>\n",
        "      <td> 0.21</td>\n",
        "      <td> 0.28</td>\n",
        "      <td> 0.50</td>\n",
        "      <td> 0</td>\n",
        "      <td> 0.14</td>\n",
        "      <td> 0.28</td>\n",
        "      <td> 0.21</td>\n",
        "      <td> 0.07</td>\n",
        "      <td> 0.00</td>\n",
        "      <td> 0.94</td>\n",
        "      <td>...</td>\n",
        "      <td> 0.00</td>\n",
        "      <td> 0.132</td>\n",
        "      <td> 0</td>\n",
        "      <td> 0.372</td>\n",
        "      <td> 0.180</td>\n",
        "      <td> 0.048</td>\n",
        "      <td> 5.114</td>\n",
        "      <td> 101</td>\n",
        "      <td> 1028</td>\n",
        "      <td> spam</td>\n",
        "    </tr>\n",
        "    <tr>\n",
        "      <th>2</th>\n",
        "      <td> 0.06</td>\n",
        "      <td> 0.00</td>\n",
        "      <td> 0.71</td>\n",
        "      <td> 0</td>\n",
        "      <td> 1.23</td>\n",
        "      <td> 0.19</td>\n",
        "      <td> 0.19</td>\n",
        "      <td> 0.12</td>\n",
        "      <td> 0.64</td>\n",
        "      <td> 0.25</td>\n",
        "      <td>...</td>\n",
        "      <td> 0.01</td>\n",
        "      <td> 0.143</td>\n",
        "      <td> 0</td>\n",
        "      <td> 0.276</td>\n",
        "      <td> 0.184</td>\n",
        "      <td> 0.010</td>\n",
        "      <td> 9.821</td>\n",
        "      <td> 485</td>\n",
        "      <td> 2259</td>\n",
        "      <td> spam</td>\n",
        "    </tr>\n",
        "    <tr>\n",
        "      <th>3</th>\n",
        "      <td> 0.00</td>\n",
        "      <td> 0.00</td>\n",
        "      <td> 0.00</td>\n",
        "      <td> 0</td>\n",
        "      <td> 0.63</td>\n",
        "      <td> 0.00</td>\n",
        "      <td> 0.31</td>\n",
        "      <td> 0.63</td>\n",
        "      <td> 0.31</td>\n",
        "      <td> 0.63</td>\n",
        "      <td>...</td>\n",
        "      <td> 0.00</td>\n",
        "      <td> 0.137</td>\n",
        "      <td> 0</td>\n",
        "      <td> 0.137</td>\n",
        "      <td> 0.000</td>\n",
        "      <td> 0.000</td>\n",
        "      <td> 3.537</td>\n",
        "      <td>  40</td>\n",
        "      <td>  191</td>\n",
        "      <td> spam</td>\n",
        "    </tr>\n",
        "    <tr>\n",
        "      <th>4</th>\n",
        "      <td> 0.00</td>\n",
        "      <td> 0.00</td>\n",
        "      <td> 0.00</td>\n",
        "      <td> 0</td>\n",
        "      <td> 0.63</td>\n",
        "      <td> 0.00</td>\n",
        "      <td> 0.31</td>\n",
        "      <td> 0.63</td>\n",
        "      <td> 0.31</td>\n",
        "      <td> 0.63</td>\n",
        "      <td>...</td>\n",
        "      <td> 0.00</td>\n",
        "      <td> 0.135</td>\n",
        "      <td> 0</td>\n",
        "      <td> 0.135</td>\n",
        "      <td> 0.000</td>\n",
        "      <td> 0.000</td>\n",
        "      <td> 3.537</td>\n",
        "      <td>  40</td>\n",
        "      <td>  191</td>\n",
        "      <td> spam</td>\n",
        "    </tr>\n",
        "  </tbody>\n",
        "</table>\n",
        "<p>5 rows \u00d7 58 columns</p>\n",
        "</div>"
       ],
       "metadata": {},
       "output_type": "pyout",
       "prompt_number": 3,
       "text": [
        "    A.1   A.2   A.3  A.4   A.5   A.6   A.7   A.8   A.9  A.10  ...   A.49  \\\n",
        "0  0.00  0.64  0.64    0  0.32  0.00  0.00  0.00  0.00  0.00  ...   0.00   \n",
        "1  0.21  0.28  0.50    0  0.14  0.28  0.21  0.07  0.00  0.94  ...   0.00   \n",
        "2  0.06  0.00  0.71    0  1.23  0.19  0.19  0.12  0.64  0.25  ...   0.01   \n",
        "3  0.00  0.00  0.00    0  0.63  0.00  0.31  0.63  0.31  0.63  ...   0.00   \n",
        "4  0.00  0.00  0.00    0  0.63  0.00  0.31  0.63  0.31  0.63  ...   0.00   \n",
        "\n",
        "    A.50  A.51   A.52   A.53   A.54   A.55  A.56  A.57  spam  \n",
        "0  0.000     0  0.778  0.000  0.000  3.756    61   278  spam  \n",
        "1  0.132     0  0.372  0.180  0.048  5.114   101  1028  spam  \n",
        "2  0.143     0  0.276  0.184  0.010  9.821   485  2259  spam  \n",
        "3  0.137     0  0.137  0.000  0.000  3.537    40   191  spam  \n",
        "4  0.135     0  0.135  0.000  0.000  3.537    40   191  spam  \n",
        "\n",
        "[5 rows x 58 columns]"
       ]
      }
     ],
     "prompt_number": 3
    },
    {
     "cell_type": "code",
     "collapsed": false,
     "input": [
      "tab.shape"
     ],
     "language": "python",
     "metadata": {},
     "outputs": [
      {
       "metadata": {},
       "output_type": "pyout",
       "prompt_number": 4,
       "text": [
        "(4601, 58)"
       ]
      }
     ],
     "prompt_number": 4
    },
    {
     "cell_type": "code",
     "collapsed": false,
     "input": [
      "prop_spam = np.mean(tab.spam==\"spam\")\n",
      "print prop_spam\n",
      "prop_email = 1 - prop_spam\n",
      "print prop_email"
     ],
     "language": "python",
     "metadata": {},
     "outputs": [
      {
       "output_type": "stream",
       "stream": "stdout",
       "text": [
        "0.394044772875\n",
        "0.605955227125\n"
       ]
      }
     ],
     "prompt_number": 5
    },
    {
     "cell_type": "heading",
     "level": 2,
     "metadata": {},
     "source": [
      "Classification par SVM"
     ]
    },
    {
     "cell_type": "code",
     "collapsed": false,
     "input": [
      "from sklearn import svm"
     ],
     "language": "python",
     "metadata": {},
     "outputs": [],
     "prompt_number": 6
    },
    {
     "cell_type": "code",
     "collapsed": false,
     "input": [
      "sample_index = np.random.permutation(tab.index)"
     ],
     "language": "python",
     "metadata": {},
     "outputs": [],
     "prompt_number": 7
    },
    {
     "cell_type": "code",
     "collapsed": false,
     "input": [
      "kernels = ['rbf','']"
     ],
     "language": "python",
     "metadata": {},
     "outputs": []
    },
    {
     "cell_type": "code",
     "collapsed": false,
     "input": [
      "res = pd.DataFrame(np.repeat(0,repeats=()"
     ],
     "language": "python",
     "metadata": {},
     "outputs": []
    },
    {
     "cell_type": "code",
     "collapsed": false,
     "input": [
      "train_index = sample_index[:3*tab.shape[0]/4]\n",
      "test_index = sample_index[3*tab.shape[0]/4:]\n",
      "train_x = tab.ix[train_index].drop([\"spam\"],axis=1)\n",
      "train_y = tab[\"spam\"][train_index]\n",
      "test_x = tab.ix[test_index].drop([\"spam\"],axis=1)\n",
      "test_y = tab[\"spam\"][test_index]\n",
      "classifier = svm.SVC(kernel=\"poly\")\n",
      "classifier.fit(train_x,train_y)\n",
      "np.mean(classifier.predict(test_x) == test_y)"
     ],
     "language": "python",
     "metadata": {},
     "outputs": []
    },
    {
     "cell_type": "code",
     "collapsed": false,
     "input": [
      "pd.crosstab(classifier.predict(test_x), test_y, colnames=['reality'], rownames=[\"prediction\"]).apply(lambda r:r/r.sum(), axis=0)"
     ],
     "language": "python",
     "metadata": {},
     "outputs": [
      {
       "html": [
        "<div style=\"max-height:1000px;max-width:1500px;overflow:auto;\">\n",
        "<table border=\"1\" class=\"dataframe\">\n",
        "  <thead>\n",
        "    <tr style=\"text-align: right;\">\n",
        "      <th>reality</th>\n",
        "      <th>email</th>\n",
        "      <th>spam</th>\n",
        "    </tr>\n",
        "    <tr>\n",
        "      <th>prediction</th>\n",
        "      <th></th>\n",
        "      <th></th>\n",
        "    </tr>\n",
        "  </thead>\n",
        "  <tbody>\n",
        "    <tr>\n",
        "      <th>email</th>\n",
        "      <td> 0.941512</td>\n",
        "      <td> 0.182222</td>\n",
        "    </tr>\n",
        "    <tr>\n",
        "      <th>spam</th>\n",
        "      <td> 0.058488</td>\n",
        "      <td> 0.817778</td>\n",
        "    </tr>\n",
        "  </tbody>\n",
        "</table>\n",
        "</div>"
       ],
       "metadata": {},
       "output_type": "pyout",
       "prompt_number": 55,
       "text": [
        "reality        email      spam\n",
        "prediction                    \n",
        "email       0.941512  0.182222\n",
        "spam        0.058488  0.817778"
       ]
      }
     ],
     "prompt_number": 55
    },
    {
     "cell_type": "code",
     "collapsed": false,
     "input": [],
     "language": "python",
     "metadata": {},
     "outputs": []
    }
   ],
   "metadata": {}
  }
 ]
}